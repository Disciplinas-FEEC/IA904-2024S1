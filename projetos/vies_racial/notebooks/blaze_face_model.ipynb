{
 "cells": [
  {
   "cell_type": "markdown",
   "metadata": {},
   "source": [
    "Import da biblioteca pandas"
   ]
  },
  {
   "cell_type": "code",
   "execution_count": null,
   "metadata": {},
   "outputs": [],
   "source": [
    "import pandas as pd"
   ]
  },
  {
   "cell_type": "markdown",
   "metadata": {},
   "source": [
    "Lendo o csv dos resultados do modelo BlazeFace"
   ]
  },
  {
   "cell_type": "code",
   "execution_count": null,
   "metadata": {},
   "outputs": [],
   "source": [
    "df=pd.read_csv(\"../data/interim/blazeface.csv\")"
   ]
  },
  {
   "cell_type": "markdown",
   "metadata": {},
   "source": [
    "Contando quantas imagens tem por cada gênero e raça"
   ]
  },
  {
   "cell_type": "code",
   "execution_count": null,
   "metadata": {},
   "outputs": [],
   "source": [
    "for race in df['race'].unique():\n",
    "    print(race)\n",
    "    print('Feminino')\n",
    "    print(df[(df['gender']=='Female')&(df['race']==race)]['file'].count())\n",
    "    print('Masculino')\n",
    "    print(df[(df['gender']=='Male')&(df['race']==race)]['file'].count())"
   ]
  },
  {
   "cell_type": "markdown",
   "metadata": {},
   "source": [
    "Contando a quantidade de erros em cada raça agrupado por gênero"
   ]
  },
  {
   "cell_type": "code",
   "execution_count": null,
   "metadata": {},
   "outputs": [],
   "source": [
    "for race in df['race'].unique():\n",
    "    print(race)\n",
    "    print('Feminino')\n",
    "    print(df[(df['gender']=='Female')&(df['race']==race)&(df['face_detected']==False)]['file'].count())\n",
    "    print('Masculino')\n",
    "    print(df[(df['gender']=='Male')&(df['race']==race)&(df['face_detected']==False)]['file'].count())"
   ]
  }
 ],
 "metadata": {
  "language_info": {
   "name": "python"
  }
 },
 "nbformat": 4,
 "nbformat_minor": 2
}
