{
 "cells": [
  {
   "cell_type": "markdown",
   "metadata": {},
   "source": [
    "# Análise Exploratória dos Dados"
   ]
  },
  {
   "cell_type": "markdown",
   "metadata": {},
   "source": [
    "Importando a biblioteca Pandas"
   ]
  },
  {
   "cell_type": "code",
   "execution_count": 2,
   "metadata": {},
   "outputs": [],
   "source": [
    "import pandas as pd"
   ]
  },
  {
   "cell_type": "markdown",
   "metadata": {},
   "source": [
    "Serão analisadas as bases de dados de treino e validação"
   ]
  },
  {
   "cell_type": "code",
   "execution_count": 2,
   "metadata": {},
   "outputs": [],
   "source": [
    "df_train = pd.read_csv('../data/raw/fairface_label_train.csv')\n",
    "df_val = pd.read_csv('../data/raw/fairface_label_val.csv')"
   ]
  },
  {
   "cell_type": "markdown",
   "metadata": {},
   "source": [
    "Visualização do conjunto de dados de treino"
   ]
  },
  {
   "cell_type": "code",
   "execution_count": null,
   "metadata": {},
   "outputs": [],
   "source": [
    "df_train.head()"
   ]
  },
  {
   "cell_type": "markdown",
   "metadata": {},
   "source": [
    "Visualização do conjunto de dados de validação"
   ]
  },
  {
   "cell_type": "code",
   "execution_count": null,
   "metadata": {},
   "outputs": [],
   "source": [
    "df_val.head()"
   ]
  },
  {
   "cell_type": "markdown",
   "metadata": {},
   "source": [
    "Avaliando o balanceamento da base de dados de treino em relação as raças"
   ]
  },
  {
   "cell_type": "code",
   "execution_count": null,
   "metadata": {},
   "outputs": [],
   "source": [
    "df_train.race.value_counts()"
   ]
  },
  {
   "cell_type": "markdown",
   "metadata": {},
   "source": [
    "Avaliando o balanceamento da base de dados de validação em relação as raças"
   ]
  },
  {
   "cell_type": "code",
   "execution_count": null,
   "metadata": {},
   "outputs": [],
   "source": [
    "df_val.race.value_counts()"
   ]
  },
  {
   "cell_type": "markdown",
   "metadata": {},
   "source": [
    "Avaliando os rótulos de idade:"
   ]
  },
  {
   "cell_type": "code",
   "execution_count": 5,
   "metadata": {},
   "outputs": [
    {
     "data": {
      "text/plain": [
       "age\n",
       "20-29           25598\n",
       "30-39           19250\n",
       "40-49           10744\n",
       "3-9             10408\n",
       "10-19            9103\n",
       "50-59            6228\n",
       "60-69            2779\n",
       "0-2              1792\n",
       "more than 70      842\n",
       "Name: count, dtype: int64"
      ]
     },
     "execution_count": 5,
     "metadata": {},
     "output_type": "execute_result"
    }
   ],
   "source": [
    "df_train['age'].value_counts()"
   ]
  },
  {
   "cell_type": "code",
   "execution_count": 11,
   "metadata": {},
   "outputs": [
    {
     "data": {
      "text/plain": [
       "age\n",
       "20-29           3300\n",
       "30-39           2330\n",
       "3-9             1356\n",
       "40-49           1353\n",
       "10-19           1181\n",
       "50-59            796\n",
       "60-69            321\n",
       "0-2              199\n",
       "more than 70     118\n",
       "Name: count, dtype: int64"
      ]
     },
     "execution_count": 11,
     "metadata": {},
     "output_type": "execute_result"
    }
   ],
   "source": [
    "df_val['age'].value_counts()"
   ]
  },
  {
   "cell_type": "markdown",
   "metadata": {},
   "source": [
    "Avaliando os rótulos de gênero:"
   ]
  },
  {
   "cell_type": "code",
   "execution_count": 15,
   "metadata": {},
   "outputs": [
    {
     "data": {
      "text/plain": [
       "gender\n",
       "Male      45986\n",
       "Female    40758\n",
       "Name: count, dtype: int64"
      ]
     },
     "execution_count": 15,
     "metadata": {},
     "output_type": "execute_result"
    }
   ],
   "source": [
    "df_train['gender'].value_counts()"
   ]
  },
  {
   "cell_type": "code",
   "execution_count": 14,
   "metadata": {},
   "outputs": [
    {
     "data": {
      "text/plain": [
       "gender\n",
       "Male      5792\n",
       "Female    5162\n",
       "Name: count, dtype: int64"
      ]
     },
     "execution_count": 14,
     "metadata": {},
     "output_type": "execute_result"
    }
   ],
   "source": [
    "df_val['gender'].value_counts()"
   ]
  },
  {
   "cell_type": "markdown",
   "metadata": {},
   "source": [
    "Avaliando os rótulos de raça:"
   ]
  },
  {
   "cell_type": "code",
   "execution_count": 16,
   "metadata": {},
   "outputs": [
    {
     "data": {
      "text/plain": [
       "race\n",
       "White              16527\n",
       "Latino_Hispanic    13367\n",
       "Indian             12319\n",
       "East Asian         12287\n",
       "Black              12233\n",
       "Southeast Asian    10795\n",
       "Middle Eastern      9216\n",
       "Name: count, dtype: int64"
      ]
     },
     "execution_count": 16,
     "metadata": {},
     "output_type": "execute_result"
    }
   ],
   "source": [
    "df_train['race'].value_counts()"
   ]
  },
  {
   "cell_type": "code",
   "execution_count": 17,
   "metadata": {},
   "outputs": [
    {
     "data": {
      "text/plain": [
       "race\n",
       "White              2085\n",
       "Latino_Hispanic    1623\n",
       "Black              1556\n",
       "East Asian         1550\n",
       "Indian             1516\n",
       "Southeast Asian    1415\n",
       "Middle Eastern     1209\n",
       "Name: count, dtype: int64"
      ]
     },
     "execution_count": 17,
     "metadata": {},
     "output_type": "execute_result"
    }
   ],
   "source": [
    "df_val['race'].value_counts()"
   ]
  },
  {
   "cell_type": "markdown",
   "metadata": {},
   "source": [
    "Existem dados faltantes no conjunto de treino?"
   ]
  },
  {
   "cell_type": "code",
   "execution_count": 6,
   "metadata": {},
   "outputs": [
    {
     "data": {
      "text/html": [
       "<div>\n",
       "<style scoped>\n",
       "    .dataframe tbody tr th:only-of-type {\n",
       "        vertical-align: middle;\n",
       "    }\n",
       "\n",
       "    .dataframe tbody tr th {\n",
       "        vertical-align: top;\n",
       "    }\n",
       "\n",
       "    .dataframe thead th {\n",
       "        text-align: right;\n",
       "    }\n",
       "</style>\n",
       "<table border=\"1\" class=\"dataframe\">\n",
       "  <thead>\n",
       "    <tr style=\"text-align: right;\">\n",
       "      <th></th>\n",
       "      <th>file</th>\n",
       "      <th>age</th>\n",
       "      <th>gender</th>\n",
       "      <th>race</th>\n",
       "      <th>service_test</th>\n",
       "    </tr>\n",
       "  </thead>\n",
       "  <tbody>\n",
       "  </tbody>\n",
       "</table>\n",
       "</div>"
      ],
      "text/plain": [
       "Empty DataFrame\n",
       "Columns: [file, age, gender, race, service_test]\n",
       "Index: []"
      ]
     },
     "execution_count": 6,
     "metadata": {},
     "output_type": "execute_result"
    }
   ],
   "source": [
    "df_train[df_train.isnull().any(axis=1)]"
   ]
  },
  {
   "cell_type": "code",
   "execution_count": 8,
   "metadata": {},
   "outputs": [
    {
     "data": {
      "text/html": [
       "<div>\n",
       "<style scoped>\n",
       "    .dataframe tbody tr th:only-of-type {\n",
       "        vertical-align: middle;\n",
       "    }\n",
       "\n",
       "    .dataframe tbody tr th {\n",
       "        vertical-align: top;\n",
       "    }\n",
       "\n",
       "    .dataframe thead th {\n",
       "        text-align: right;\n",
       "    }\n",
       "</style>\n",
       "<table border=\"1\" class=\"dataframe\">\n",
       "  <thead>\n",
       "    <tr style=\"text-align: right;\">\n",
       "      <th></th>\n",
       "      <th>file</th>\n",
       "      <th>age</th>\n",
       "      <th>gender</th>\n",
       "      <th>race</th>\n",
       "      <th>service_test</th>\n",
       "    </tr>\n",
       "  </thead>\n",
       "  <tbody>\n",
       "  </tbody>\n",
       "</table>\n",
       "</div>"
      ],
      "text/plain": [
       "Empty DataFrame\n",
       "Columns: [file, age, gender, race, service_test]\n",
       "Index: []"
      ]
     },
     "execution_count": 8,
     "metadata": {},
     "output_type": "execute_result"
    }
   ],
   "source": [
    "df_val[df_val.isnull().any(axis=1)]"
   ]
  },
  {
   "cell_type": "markdown",
   "metadata": {},
   "source": [
    "Qual o tamanho do conjunto de dados de treino e teste?"
   ]
  },
  {
   "cell_type": "code",
   "execution_count": 9,
   "metadata": {},
   "outputs": [
    {
     "data": {
      "text/plain": [
       "(86744, 5)"
      ]
     },
     "execution_count": 9,
     "metadata": {},
     "output_type": "execute_result"
    }
   ],
   "source": [
    "df_train.shape"
   ]
  },
  {
   "cell_type": "code",
   "execution_count": 10,
   "metadata": {},
   "outputs": [
    {
     "data": {
      "text/plain": [
       "(10954, 5)"
      ]
     },
     "execution_count": 10,
     "metadata": {},
     "output_type": "execute_result"
    }
   ],
   "source": [
    "df_val.shape"
   ]
  },
  {
   "cell_type": "markdown",
   "metadata": {},
   "source": [
    "## Avaliando a aplicação do MTCNN por etnia"
   ]
  },
  {
   "cell_type": "code",
   "execution_count": 4,
   "metadata": {},
   "outputs": [],
   "source": [
    "# Etnia negra:\n",
    "df_black=pd.read_csv('../data/interim/df_black_to_2000.csv')\n",
    "df_black_segundo_conjunto=pd.read_csv('../data/interim/df_black_2000_to_4000.csv')\n",
    "df_black_terceiro_conjunto=pd.read_csv('../data/interim/df_black_4000_to_6000.csv')\n",
    "df_black_quarto_conjunto=pd.read_csv('../data/interim/df_black_6000_to_8000.csv')\n",
    "df_black_quinto_conjunto=pd.read_csv('../data/interim/df_black_8000_to_10000.csv')\n",
    "df_black_sexto_conjunto=pd.read_csv('../data/interim/df_black_10000_to_end.csv')"
   ]
  },
  {
   "cell_type": "code",
   "execution_count": 6,
   "metadata": {},
   "outputs": [],
   "source": [
    "# Etnia branca:\n",
    "df_white=pd.read_csv('../data/interim/df_white_to_2000.csv')\n",
    "df_white_segundo_conjunto=pd.read_csv('../data/interim/df_white_2000_to_4000.csv')\n",
    "df_white_terceiro_conjunto=pd.read_csv('../data/interim/df_white_4000_to_6000.csv')\n",
    "df_white_quarto_conjunto=pd.read_csv('../data/interim/df_white_6000_to_8000.csv')\n",
    "df_white_quinto_conjunto=pd.read_csv('../data/interim/df_white_8000_to_10000.csv')\n",
    "df_white_sexto_conjunto=pd.read_csv('../data/interim/df_white_10000_to_12000.csv')\n",
    "df_white_setimo_conjunto=pd.read_csv('../data/interim/df_white_12000_to_14000.csv')\n",
    "df_white_oitavo_conjunto=pd.read_csv('../data/interim/df_white_14000_to_end.csv')\n"
   ]
  },
  {
   "cell_type": "code",
   "execution_count": 45,
   "metadata": {},
   "outputs": [],
   "source": [
    "# Demais etnias:\n",
    "df_east_asian=pd.read_csv('../data/interim/df_east_asian_to_2000.csv')\n",
    "df_indian=pd.read_csv('../data/interim/df_indian_to_2000.csv')\n",
    "df_latino_hispanic=pd.read_csv('../data/interim/df_latino_hispanic_to_2000.csv')\n",
    "df_middle_eastern=pd.read_csv('../data/interim/df_middle_eastern_to_2000.csv')\n",
    "df_southeast_asian=pd.read_csv('../data/interim/df_southeast_asian_to_2000.csv')"
   ]
  },
  {
   "cell_type": "markdown",
   "metadata": {},
   "source": [
    "Definindo as funções que serão utilizadas"
   ]
  },
  {
   "cell_type": "markdown",
   "metadata": {},
   "source": [
    "Função para calcular a média das confianças:"
   ]
  },
  {
   "cell_type": "code",
   "execution_count": 11,
   "metadata": {},
   "outputs": [],
   "source": [
    "def calcula_media(df):\n",
    "    # Converte a coluna para numérico, forçando erros a NaN\n",
    "    df['confidence_only_numeric'] = pd.to_numeric(df['confidence'], errors='coerce')\n",
    "    # Remove os valores NaN\n",
    "    df_cleaned = df.dropna(subset=['confidence_only_numeric'])\n",
    "    # Calcula a média dos valores restantes\n",
    "    mean_value = df_cleaned['confidence_only_numeric'].mean()\n",
    "    return mean_value"
   ]
  },
  {
   "cell_type": "markdown",
   "metadata": {},
   "source": [
    "Função para realizar o print da quantidade de imagens que não foi possível detectar rostos:"
   ]
  },
  {
   "cell_type": "code",
   "execution_count": 13,
   "metadata": {},
   "outputs": [],
   "source": [
    "def print_nao_detectado(df):\n",
    "    cont_nao_detec=df[df['confidence']=='nenhum rosto detectado (=0)']['file'].count()\n",
    "    print('Não foram detectados rostos em ', cont_nao_detec, 'imagens')"
   ]
  },
  {
   "cell_type": "markdown",
   "metadata": {},
   "source": [
    "Função para realizar o print da quantidade de imagens que foram detectados mais de um rosto:"
   ]
  },
  {
   "cell_type": "code",
   "execution_count": 14,
   "metadata": {},
   "outputs": [],
   "source": [
    "def print_mais_rostos(df):\n",
    "    cont_rostos=df[df['confidence']=='mais de um rosto detectado']['file'].count()\n",
    "    print('Foram detectados mais de um rosto em', cont_rostos, 'imagens')"
   ]
  },
  {
   "cell_type": "markdown",
   "metadata": {},
   "source": [
    "Função para realizar o print da quantidade de imagens que houve problema na aplicação do modelo MTCNN:"
   ]
  },
  {
   "cell_type": "code",
   "execution_count": 15,
   "metadata": {},
   "outputs": [],
   "source": [
    "def print_erro_modelo(df):\n",
    "    cont_problema_mod=df[df['confidence']=='não foi detectado nenhum rosto']['file'].count()\n",
    "    print('Houve problema na detecção em', cont_problema_mod, 'imagens')"
   ]
  },
  {
   "cell_type": "markdown",
   "metadata": {},
   "source": [
    "### Investigação dos erros por etnias"
   ]
  },
  {
   "cell_type": "markdown",
   "metadata": {},
   "source": [
    "Inicialmente serão analisadas apenas 2000 imagens por etnia."
   ]
  },
  {
   "cell_type": "markdown",
   "metadata": {},
   "source": [
    "Para a etnia negra:"
   ]
  },
  {
   "cell_type": "code",
   "execution_count": 21,
   "metadata": {},
   "outputs": [
    {
     "name": "stdout",
     "output_type": "stream",
     "text": [
      "A média de confiança na detecção foi de:  0.9916\n",
      "Não foram detectados rostos em  129 imagens\n",
      "Houve problema na detecção em 0 imagens\n",
      "Foram detectados mais de um rosto em 17 imagens\n"
     ]
    }
   ],
   "source": [
    "print('A média de confiança na detecção foi de: ', round(calcula_media(df_black),4))\n",
    "print_nao_detectado(df_black)\n",
    "print_erro_modelo(df_black)\n",
    "print_mais_rostos(df_black)"
   ]
  },
  {
   "cell_type": "markdown",
   "metadata": {},
   "source": [
    "Para a etnia do leste asiático:"
   ]
  },
  {
   "cell_type": "code",
   "execution_count": 23,
   "metadata": {},
   "outputs": [
    {
     "name": "stdout",
     "output_type": "stream",
     "text": [
      "A média de confiança na detecção foi de:  0.993\n",
      "Não foram detectados rostos em  125 imagens\n",
      "Houve problema na detecção em 0 imagens\n",
      "Foram detectados mais de um rosto em 12 imagens\n"
     ]
    }
   ],
   "source": [
    "print('A média de confiança na detecção foi de: ', round(calcula_media(df_east_asian),4))\n",
    "print_nao_detectado(df_east_asian)\n",
    "print_erro_modelo(df_east_asian)\n",
    "print_mais_rostos(df_east_asian)"
   ]
  },
  {
   "cell_type": "markdown",
   "metadata": {},
   "source": [
    "Para a etnia indiana:"
   ]
  },
  {
   "cell_type": "code",
   "execution_count": 24,
   "metadata": {},
   "outputs": [
    {
     "name": "stdout",
     "output_type": "stream",
     "text": [
      "A média de confiança na detecção foi de:  0.9961\n",
      "Não foram detectados rostos em  73 imagens\n",
      "Houve problema na detecção em 0 imagens\n",
      "Foram detectados mais de um rosto em 12 imagens\n"
     ]
    }
   ],
   "source": [
    "print('A média de confiança na detecção foi de: ', round(calcula_media(df_indian),4))\n",
    "print_nao_detectado(df_indian)\n",
    "print_erro_modelo(df_indian)\n",
    "print_mais_rostos(df_indian)"
   ]
  },
  {
   "cell_type": "markdown",
   "metadata": {},
   "source": [
    "Para a etnia latino hispânico:"
   ]
  },
  {
   "cell_type": "code",
   "execution_count": 25,
   "metadata": {},
   "outputs": [
    {
     "name": "stdout",
     "output_type": "stream",
     "text": [
      "A média de confiança na detecção foi de:  0.9948\n",
      "Não foram detectados rostos em  83 imagens\n",
      "Houve problema na detecção em 0 imagens\n",
      "Foram detectados mais de um rosto em 10 imagens\n"
     ]
    }
   ],
   "source": [
    "print('A média de confiança na detecção foi de: ', round(calcula_media(df_latino_hispanic),4))\n",
    "print_nao_detectado(df_latino_hispanic)\n",
    "print_erro_modelo(df_latino_hispanic)\n",
    "print_mais_rostos(df_latino_hispanic)"
   ]
  },
  {
   "cell_type": "markdown",
   "metadata": {},
   "source": [
    "Para a etnia do oriente médio:"
   ]
  },
  {
   "cell_type": "code",
   "execution_count": 26,
   "metadata": {},
   "outputs": [
    {
     "name": "stdout",
     "output_type": "stream",
     "text": [
      "A média de confiança na detecção foi de:  0.9905\n",
      "Não foram detectados rostos em  105 imagens\n",
      "Houve problema na detecção em 0 imagens\n",
      "Foram detectados mais de um rosto em 10 imagens\n"
     ]
    }
   ],
   "source": [
    "print('A média de confiança na detecção foi de: ', round(calcula_media(df_middle_eastern),4))\n",
    "print_nao_detectado(df_middle_eastern)\n",
    "print_erro_modelo(df_middle_eastern)\n",
    "print_mais_rostos(df_middle_eastern)"
   ]
  },
  {
   "cell_type": "markdown",
   "metadata": {},
   "source": [
    "Para a etnia do sudeste asiático:"
   ]
  },
  {
   "cell_type": "code",
   "execution_count": 30,
   "metadata": {},
   "outputs": [
    {
     "name": "stdout",
     "output_type": "stream",
     "text": [
      "A média de confiança na detecção foi de:  0.9945\n",
      "Não foram detectados rostos em  95 imagens\n",
      "Houve problema na detecção em 0 imagens\n",
      "Foram detectados mais de um rosto em 18 imagens\n"
     ]
    }
   ],
   "source": [
    "print('A média de confiança na detecção foi de: ', round(calcula_media(df_southeast_asian),4))\n",
    "print_nao_detectado(df_southeast_asian)\n",
    "print_erro_modelo(df_southeast_asian)\n",
    "print_mais_rostos(df_southeast_asian)"
   ]
  },
  {
   "cell_type": "markdown",
   "metadata": {},
   "source": [
    "Para a etnia branca:"
   ]
  },
  {
   "cell_type": "code",
   "execution_count": 31,
   "metadata": {},
   "outputs": [
    {
     "name": "stdout",
     "output_type": "stream",
     "text": [
      "A média de confiança na detecção foi de:  0.9907\n",
      "Não foram detectados rostos em  158 imagens\n",
      "Houve problema na detecção em 0 imagens\n",
      "Foram detectados mais de um rosto em 11 imagens\n"
     ]
    }
   ],
   "source": [
    "print('A média de confiança na detecção foi de: ', round(calcula_media(df_white),4))\n",
    "print_nao_detectado(df_white)\n",
    "print_erro_modelo(df_white)\n",
    "print_mais_rostos(df_white)"
   ]
  },
  {
   "cell_type": "markdown",
   "metadata": {},
   "source": [
    "#### Análise de dois conjuntos de dados completos"
   ]
  },
  {
   "cell_type": "markdown",
   "metadata": {},
   "source": [
    "Combinando as colunas dos dataframes da etnia negra:"
   ]
  },
  {
   "cell_type": "code",
   "execution_count": 36,
   "metadata": {},
   "outputs": [],
   "source": [
    "col_completa_confidence_black = df_black['confidence'].combine_first(df_black_segundo_conjunto['confidence']) \\\n",
    "                                        .combine_first(df_black_terceiro_conjunto['confidence']) \\\n",
    "                                        .combine_first(df_black_quarto_conjunto['confidence']) \\\n",
    "                                        .combine_first(df_black_quinto_conjunto['confidence']) \\\n",
    "                                        .combine_first(df_black_sexto_conjunto['confidence'])"
   ]
  },
  {
   "cell_type": "code",
   "execution_count": 38,
   "metadata": {},
   "outputs": [],
   "source": [
    "df_black['confidence']=col_completa_confidence_black"
   ]
  },
  {
   "cell_type": "markdown",
   "metadata": {},
   "source": [
    "Análise da base de dados completa da etnia negra:"
   ]
  },
  {
   "cell_type": "code",
   "execution_count": 40,
   "metadata": {},
   "outputs": [
    {
     "name": "stdout",
     "output_type": "stream",
     "text": [
      "A média de confiança na detecção foi de:  0.9924\n",
      "Não foram detectados rostos em  637 imagens\n",
      "Houve problema na detecção em 0 imagens\n",
      "Foram detectados mais de um rosto em 84 imagens\n"
     ]
    }
   ],
   "source": [
    "print('A média de confiança na detecção foi de: ', round(calcula_media(df_black),4))\n",
    "print_nao_detectado(df_black)\n",
    "print_erro_modelo(df_black)\n",
    "print_mais_rostos(df_black)"
   ]
  },
  {
   "cell_type": "markdown",
   "metadata": {},
   "source": [
    "Combinando as colunas dos dataframes da etnia branca:"
   ]
  },
  {
   "cell_type": "code",
   "execution_count": 7,
   "metadata": {},
   "outputs": [],
   "source": [
    "col_completa_confidence_white = df_white['confidence'].combine_first(df_white_segundo_conjunto['confidence']) \\\n",
    "                                        .combine_first(df_white_terceiro_conjunto['confidence']) \\\n",
    "                                        .combine_first(df_white_quarto_conjunto['confidence']) \\\n",
    "                                        .combine_first(df_white_quinto_conjunto['confidence']) \\\n",
    "                                        .combine_first(df_white_sexto_conjunto['confidence']) \\\n",
    "                                        .combine_first(df_white_setimo_conjunto['confidence']) \\\n",
    "                                        .combine_first(df_white_oitavo_conjunto['confidence'])"
   ]
  },
  {
   "cell_type": "code",
   "execution_count": 9,
   "metadata": {},
   "outputs": [],
   "source": [
    "df_white['confidence']=col_completa_confidence_white"
   ]
  },
  {
   "cell_type": "code",
   "execution_count": 16,
   "metadata": {},
   "outputs": [
    {
     "name": "stdout",
     "output_type": "stream",
     "text": [
      "A média de confiança na detecção foi de:  0.9908\n",
      "Não foram detectados rostos em  1250 imagens\n",
      "Houve problema na detecção em 0 imagens\n",
      "Foram detectados mais de um rosto em 74 imagens\n"
     ]
    }
   ],
   "source": [
    "print('A média de confiança na detecção foi de: ', round(calcula_media(df_white),4))\n",
    "print_nao_detectado(df_white)\n",
    "print_erro_modelo(df_white)\n",
    "print_mais_rostos(df_white)"
   ]
  },
  {
   "cell_type": "markdown",
   "metadata": {},
   "source": [
    "Como é possível observar, apesar do conjunto de dados da etnia branca ser maior, a quantidade de erros na detecção de rostos foi maior para esta etnia."
   ]
  }
 ],
 "metadata": {
  "kernelspec": {
   "display_name": "Python 3",
   "language": "python",
   "name": "python3"
  },
  "language_info": {
   "codemirror_mode": {
    "name": "ipython",
    "version": 3
   },
   "file_extension": ".py",
   "mimetype": "text/x-python",
   "name": "python",
   "nbconvert_exporter": "python",
   "pygments_lexer": "ipython3",
   "version": "3.11.9"
  }
 },
 "nbformat": 4,
 "nbformat_minor": 2
}
