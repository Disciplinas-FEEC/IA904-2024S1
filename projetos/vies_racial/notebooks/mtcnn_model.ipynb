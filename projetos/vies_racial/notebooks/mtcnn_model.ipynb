{
 "cells": [
  {
   "cell_type": "markdown",
   "metadata": {},
   "source": [
    "Importação das bibliotecas"
   ]
  },
  {
   "cell_type": "code",
   "execution_count": 1,
   "metadata": {},
   "outputs": [],
   "source": [
    "import pandas as pd\n",
    "from mtcnn import MTCNN\n",
    "import cv2"
   ]
  },
  {
   "cell_type": "markdown",
   "metadata": {},
   "source": [
    "Definindo o dataframe como o conjunto de dados de treino"
   ]
  },
  {
   "cell_type": "code",
   "execution_count": null,
   "metadata": {},
   "outputs": [],
   "source": [
    "df=pd.read_csv(\"../data/raw/fairface_label_train.csv\")"
   ]
  },
  {
   "cell_type": "markdown",
   "metadata": {},
   "source": [
    "Visualizando as raças presentes no conjunto de dados"
   ]
  },
  {
   "cell_type": "code",
   "execution_count": null,
   "metadata": {},
   "outputs": [],
   "source": [
    "df.race.unique()"
   ]
  },
  {
   "cell_type": "markdown",
   "metadata": {},
   "source": [
    "Nomeando cada dataframe somente com as imagens de uma única raça"
   ]
  },
  {
   "cell_type": "code",
   "execution_count": null,
   "metadata": {},
   "outputs": [],
   "source": [
    "df_east_asian=df[df['race']=='East Asian']\n",
    "df_indian=df[df['race']=='Indian']\n",
    "df_black=df[df['race']=='Black']\n",
    "df_white=df[df['race']=='White']\n",
    "df_middle_eastern=df[df['race']=='Middle Eastern']\n",
    "df_latino_hispanic=df[df['race']=='Latino_Hispanic']\n",
    "df_southeast_asian=df[df['race']=='Southeast Asian']"
   ]
  },
  {
   "cell_type": "markdown",
   "metadata": {},
   "source": [
    "Realizando o teste da aplicação do modelo MTCNN com uma única imagem. É possível visualizar vários atributos da imagem, porém só será utilizado um entre eles: confiança."
   ]
  },
  {
   "cell_type": "code",
   "execution_count": null,
   "metadata": {},
   "outputs": [],
   "source": [
    "img = cv2.cvtColor(cv2.imread(\"../data/processed/train/50.jpg\"), cv2.COLOR_BGR2RGB)\n",
    "detector = MTCNN()\n",
    "detector.detect_faces(img)"
   ]
  },
  {
   "cell_type": "markdown",
   "metadata": {},
   "source": [
    "Foi criada uma função para trazer o nível de confiança do rosto detectado que recebe como entrada o caminho da imagem"
   ]
  },
  {
   "cell_type": "code",
   "execution_count": null,
   "metadata": {},
   "outputs": [],
   "source": [
    "def get_confidences(image_path):\n",
    "    img = cv2.cvtColor(cv2.imread(image_path), cv2.COLOR_BGR2RGB)\n",
    "    detector = MTCNN()\n",
    "    faces = detector.detect_faces(img)\n",
    "    confidences = [face['confidence'] for face in faces]\n",
    "    return confidences"
   ]
  },
  {
   "cell_type": "markdown",
   "metadata": {},
   "source": [
    "Nesta célula foi atribuido uma raça por vez, visto que o algoritmo é muito pesado e demora mais de uma hora para processar as imagens."
   ]
  },
  {
   "cell_type": "code",
   "execution_count": null,
   "metadata": {},
   "outputs": [],
   "source": [
    "df_race=df_white"
   ]
  },
  {
   "cell_type": "markdown",
   "metadata": {},
   "source": [
    "Foi criada uma nova coluna no dataframe chamada 'confidence'."
   ]
  },
  {
   "cell_type": "code",
   "execution_count": null,
   "metadata": {},
   "outputs": [],
   "source": [
    "df_race['confidence']=pd.NA"
   ]
  },
  {
   "cell_type": "markdown",
   "metadata": {},
   "source": [
    "É possível visualizar o novo dataframe que será atualizado"
   ]
  },
  {
   "cell_type": "code",
   "execution_count": null,
   "metadata": {},
   "outputs": [],
   "source": [
    "df_race"
   ]
  },
  {
   "cell_type": "markdown",
   "metadata": {},
   "source": [
    "Esta iteração chama a função para aplicar o modelo MTCNN. Se houver mais de um rosto detectado, é apresenta uma mensagem no lugar do número de confiança. De forma, semelhante, também é apresentado se não foi possível detectar rostos ou houve algum erro para aplicar o modelo. Para todas as etnias branca e negra, foi processado todo o conjunto de dados de treino. Já para as demais etnias, apenas foi processada as 2000 primeiras imagens. O motivo deve-se a demora para processar cada imagem."
   ]
  },
  {
   "cell_type": "code",
   "execution_count": null,
   "metadata": {},
   "outputs": [],
   "source": [
    "# i=0\n",
    "# for index, row in df_race.iterrows():  \n",
    "#     if i>=14000: \n",
    "#         image_path_short = row['file']\n",
    "#         image_path_long = '../data/processed/' + image_path_short\n",
    "#         try:\n",
    "#             list_conf=get_confidences(image_path_long)\n",
    "#             if len(list_conf)==1:\n",
    "#                 df_race.loc[index, 'confidence'] = float(list_conf[0])\n",
    "#             elif len(list_conf)==0:\n",
    "#                 df_race.loc[index, 'confidence'] = 'nenhum rosto detectado (=0)'\n",
    "#             else:\n",
    "#                 df_race.loc[index, 'confidence'] = 'mais de um rosto detectado'\n",
    "#         except:\n",
    "#             df_race.loc[index, 'confidence'] = 'não foi detectado nenhum rosto'\n",
    "#     i+=1"
   ]
  },
  {
   "cell_type": "markdown",
   "metadata": {},
   "source": [
    "Ao final são salvas em um arquivo .csv na pasta interim de dados."
   ]
  },
  {
   "cell_type": "code",
   "execution_count": null,
   "metadata": {},
   "outputs": [],
   "source": [
    "#df_race.to_csv('df_white_14000_to_end.csv')"
   ]
  },
  {
   "cell_type": "markdown",
   "metadata": {},
   "source": [
    "## Avaliando a aplicação do MTCNN por etnia"
   ]
  },
  {
   "cell_type": "markdown",
   "metadata": {},
   "source": [
    "Lendo cada resultado dos conjuntos para a raça negra"
   ]
  },
  {
   "cell_type": "code",
   "execution_count": 2,
   "metadata": {},
   "outputs": [],
   "source": [
    "# Etnia negra:\n",
    "df_black=pd.read_csv('../data/interim/df_black_to_2000.csv')\n",
    "df_black_segundo_conjunto=pd.read_csv('../data/interim/df_black_2000_to_4000.csv')\n",
    "df_black_terceiro_conjunto=pd.read_csv('../data/interim/df_black_4000_to_6000.csv')\n",
    "df_black_quarto_conjunto=pd.read_csv('../data/interim/df_black_6000_to_8000.csv')\n",
    "df_black_quinto_conjunto=pd.read_csv('../data/interim/df_black_8000_to_10000.csv')\n",
    "df_black_sexto_conjunto=pd.read_csv('../data/interim/df_black_10000_to_end.csv')"
   ]
  },
  {
   "cell_type": "markdown",
   "metadata": {},
   "source": [
    "Lendo cada resultado dos conjuntos para a raça branca"
   ]
  },
  {
   "cell_type": "code",
   "execution_count": 3,
   "metadata": {},
   "outputs": [],
   "source": [
    "# Etnia branca:\n",
    "df_white=pd.read_csv('../data/interim/df_white_to_2000.csv')\n",
    "df_white_segundo_conjunto=pd.read_csv('../data/interim/df_white_2000_to_4000.csv')\n",
    "df_white_terceiro_conjunto=pd.read_csv('../data/interim/df_white_4000_to_6000.csv')\n",
    "df_white_quarto_conjunto=pd.read_csv('../data/interim/df_white_6000_to_8000.csv')\n",
    "df_white_quinto_conjunto=pd.read_csv('../data/interim/df_white_8000_to_10000.csv')\n",
    "df_white_sexto_conjunto=pd.read_csv('../data/interim/df_white_10000_to_12000.csv')\n",
    "df_white_setimo_conjunto=pd.read_csv('../data/interim/df_white_12000_to_14000.csv')\n",
    "df_white_oitavo_conjunto=pd.read_csv('../data/interim/df_white_14000_to_end.csv')\n"
   ]
  },
  {
   "cell_type": "markdown",
   "metadata": {},
   "source": [
    "Lendo os arquivos das demais etnias"
   ]
  },
  {
   "cell_type": "code",
   "execution_count": 4,
   "metadata": {},
   "outputs": [],
   "source": [
    "# Demais etnias:\n",
    "df_east_asian=pd.read_csv('../data/interim/df_east_asian_to_2000.csv')\n",
    "df_indian=pd.read_csv('../data/interim/df_indian_to_2000.csv')\n",
    "df_latino_hispanic=pd.read_csv('../data/interim/df_latino_hispanic_to_2000.csv')\n",
    "df_middle_eastern=pd.read_csv('../data/interim/df_middle_eastern_to_2000.csv')\n",
    "df_southeast_asian=pd.read_csv('../data/interim/df_southeast_asian_to_2000.csv')"
   ]
  },
  {
   "cell_type": "markdown",
   "metadata": {},
   "source": [
    "Definindo as funções que serão utilizadas"
   ]
  },
  {
   "cell_type": "markdown",
   "metadata": {},
   "source": [
    "Função para calcular a média das confianças:"
   ]
  },
  {
   "cell_type": "code",
   "execution_count": 5,
   "metadata": {},
   "outputs": [],
   "source": [
    "def calcula_media(df):\n",
    "    # Converte a coluna para numérico, forçando erros a NaN\n",
    "    df['confidence_only_numeric'] = pd.to_numeric(df['confidence'], errors='coerce')\n",
    "    # Remove os valores NaN\n",
    "    df_cleaned = df.dropna(subset=['confidence_only_numeric'])\n",
    "    # Calcula a média dos valores restantes\n",
    "    mean_value = df_cleaned['confidence_only_numeric'].mean()\n",
    "    return mean_value"
   ]
  },
  {
   "cell_type": "markdown",
   "metadata": {},
   "source": [
    "Função para realizar o print da quantidade de imagens que não foi possível detectar rostos:"
   ]
  },
  {
   "cell_type": "code",
   "execution_count": 6,
   "metadata": {},
   "outputs": [],
   "source": [
    "def print_nao_detectado(df):\n",
    "    cont_nao_detec=df[df['confidence']=='nenhum rosto detectado (=0)']['file'].count()\n",
    "    print('Não foram detectados rostos em ', cont_nao_detec, 'imagens')"
   ]
  },
  {
   "cell_type": "markdown",
   "metadata": {},
   "source": [
    "Função para realizar o print da quantidade de imagens que foram detectados mais de um rosto:"
   ]
  },
  {
   "cell_type": "code",
   "execution_count": 7,
   "metadata": {},
   "outputs": [],
   "source": [
    "def print_mais_rostos(df):\n",
    "    cont_rostos=df[df['confidence']=='mais de um rosto detectado']['file'].count()\n",
    "    print('Foram detectados mais de um rosto em', cont_rostos, 'imagens')"
   ]
  },
  {
   "cell_type": "markdown",
   "metadata": {},
   "source": [
    "Função para realizar o print da quantidade de imagens que houve problema na aplicação do modelo MTCNN:"
   ]
  },
  {
   "cell_type": "code",
   "execution_count": 8,
   "metadata": {},
   "outputs": [],
   "source": [
    "def print_erro_modelo(df):\n",
    "    cont_problema_mod=df[df['confidence']=='não foi detectado nenhum rosto']['file'].count()\n",
    "    print('Houve problema na detecção em', cont_problema_mod, 'imagens')"
   ]
  },
  {
   "cell_type": "markdown",
   "metadata": {},
   "source": [
    "### Investigação dos erros por etnias"
   ]
  },
  {
   "cell_type": "markdown",
   "metadata": {},
   "source": [
    "Inicialmente serão analisadas apenas 2000 imagens por etnia."
   ]
  },
  {
   "cell_type": "markdown",
   "metadata": {},
   "source": [
    "Para a etnia negra:"
   ]
  },
  {
   "cell_type": "code",
   "execution_count": 15,
   "metadata": {},
   "outputs": [
    {
     "name": "stdout",
     "output_type": "stream",
     "text": [
      "A média de confiança na detecção foi de:  nan\n",
      "Não foram detectados rostos em  0 imagens\n",
      "Houve problema na detecção em 0 imagens\n",
      "Foram detectados mais de um rosto em 15 imagens\n"
     ]
    }
   ],
   "source": [
    "print('A média de confiança na detecção foi de: ', round(calcula_media(df_black),4))\n",
    "print_nao_detectado(df_black)\n",
    "print_erro_modelo(df_black)\n",
    "print_mais_rostos(df_black)"
   ]
  },
  {
   "cell_type": "markdown",
   "metadata": {},
   "source": [
    "Para a etnia do leste asiático:"
   ]
  },
  {
   "cell_type": "code",
   "execution_count": 16,
   "metadata": {},
   "outputs": [
    {
     "name": "stdout",
     "output_type": "stream",
     "text": [
      "A média de confiança na detecção foi de:  0.993\n",
      "Não foram detectados rostos em  0 imagens\n",
      "Houve problema na detecção em 0 imagens\n",
      "Foram detectados mais de um rosto em 28 imagens\n"
     ]
    }
   ],
   "source": [
    "print('A média de confiança na detecção foi de: ', round(calcula_media(df_east_asian),4))\n",
    "print_nao_detectado(df_east_asian)\n",
    "print_erro_modelo(df_east_asian)\n",
    "print_mais_rostos(df_east_asian)"
   ]
  },
  {
   "cell_type": "markdown",
   "metadata": {},
   "source": [
    "Para a etnia indiana:"
   ]
  },
  {
   "cell_type": "code",
   "execution_count": 17,
   "metadata": {},
   "outputs": [
    {
     "name": "stdout",
     "output_type": "stream",
     "text": [
      "A média de confiança na detecção foi de:  nan\n",
      "Não foram detectados rostos em  15 imagens\n",
      "Houve problema na detecção em 0 imagens\n",
      "Foram detectados mais de um rosto em 2 imagens\n"
     ]
    }
   ],
   "source": [
    "print('A média de confiança na detecção foi de: ', round(calcula_media(df_indian),4))\n",
    "print_nao_detectado(df_indian)\n",
    "print_erro_modelo(df_indian)\n",
    "print_mais_rostos(df_indian)"
   ]
  },
  {
   "cell_type": "markdown",
   "metadata": {},
   "source": [
    "Para a etnia latino hispânico:"
   ]
  },
  {
   "cell_type": "code",
   "execution_count": 18,
   "metadata": {},
   "outputs": [
    {
     "name": "stdout",
     "output_type": "stream",
     "text": [
      "A média de confiança na detecção foi de:  nan\n",
      "Não foram detectados rostos em  10 imagens\n",
      "Houve problema na detecção em 325 imagens\n",
      "Foram detectados mais de um rosto em 3 imagens\n"
     ]
    }
   ],
   "source": [
    "print('A média de confiança na detecção foi de: ', round(calcula_media(df_latino_hispanic),4))\n",
    "print_nao_detectado(df_latino_hispanic)\n",
    "print_erro_modelo(df_latino_hispanic)\n",
    "print_mais_rostos(df_latino_hispanic)"
   ]
  },
  {
   "cell_type": "markdown",
   "metadata": {},
   "source": [
    "Para a etnia do oriente médio:"
   ]
  },
  {
   "cell_type": "code",
   "execution_count": 19,
   "metadata": {},
   "outputs": [
    {
     "name": "stdout",
     "output_type": "stream",
     "text": [
      "A média de confiança na detecção foi de:  nan\n",
      "Não foram detectados rostos em  16 imagens\n",
      "Houve problema na detecção em 181 imagens\n",
      "Foram detectados mais de um rosto em 1 imagens\n"
     ]
    }
   ],
   "source": [
    "print('A média de confiança na detecção foi de: ', round(calcula_media(df_middle_eastern),4))\n",
    "print_nao_detectado(df_middle_eastern)\n",
    "print_erro_modelo(df_middle_eastern)\n",
    "print_mais_rostos(df_middle_eastern)"
   ]
  },
  {
   "cell_type": "markdown",
   "metadata": {},
   "source": [
    "Para a etnia do sudeste asiático:"
   ]
  },
  {
   "cell_type": "code",
   "execution_count": 20,
   "metadata": {},
   "outputs": [
    {
     "name": "stdout",
     "output_type": "stream",
     "text": [
      "A média de confiança na detecção foi de:  0.9945\n",
      "Não foram detectados rostos em  95 imagens\n",
      "Houve problema na detecção em 0 imagens\n",
      "Foram detectados mais de um rosto em 18 imagens\n"
     ]
    }
   ],
   "source": [
    "print('A média de confiança na detecção foi de: ', round(calcula_media(df_southeast_asian),4))\n",
    "print_nao_detectado(df_southeast_asian)\n",
    "print_erro_modelo(df_southeast_asian)\n",
    "print_mais_rostos(df_southeast_asian)"
   ]
  },
  {
   "cell_type": "markdown",
   "metadata": {},
   "source": [
    "Para a etnia branca:"
   ]
  },
  {
   "cell_type": "code",
   "execution_count": 21,
   "metadata": {},
   "outputs": [
    {
     "name": "stdout",
     "output_type": "stream",
     "text": [
      "A média de confiança na detecção foi de:  0.9907\n",
      "Não foram detectados rostos em  0 imagens\n",
      "Houve problema na detecção em 0 imagens\n",
      "Foram detectados mais de um rosto em 36 imagens\n"
     ]
    }
   ],
   "source": [
    "print('A média de confiança na detecção foi de: ', round(calcula_media(df_white),4))\n",
    "print_nao_detectado(df_white)\n",
    "print_erro_modelo(df_white)\n",
    "print_mais_rostos(df_white)"
   ]
  },
  {
   "cell_type": "markdown",
   "metadata": {},
   "source": [
    "#### Análise de dois conjuntos de dados completos"
   ]
  },
  {
   "cell_type": "markdown",
   "metadata": {},
   "source": [
    "Combinando as colunas dos dataframes da etnia negra:"
   ]
  },
  {
   "cell_type": "code",
   "execution_count": 22,
   "metadata": {},
   "outputs": [],
   "source": [
    "col_completa_confidence_black = df_black['confidence'].combine_first(df_black_segundo_conjunto['confidence']) \\\n",
    "                                        .combine_first(df_black_terceiro_conjunto['confidence']) \\\n",
    "                                        .combine_first(df_black_quarto_conjunto['confidence']) \\\n",
    "                                        .combine_first(df_black_quinto_conjunto['confidence']) \\\n",
    "                                        .combine_first(df_black_sexto_conjunto['confidence'])"
   ]
  },
  {
   "cell_type": "code",
   "execution_count": 23,
   "metadata": {},
   "outputs": [],
   "source": [
    "df_black['confidence']=col_completa_confidence_black"
   ]
  },
  {
   "cell_type": "markdown",
   "metadata": {},
   "source": [
    "Análise da base de dados completa da etnia negra:"
   ]
  },
  {
   "cell_type": "code",
   "execution_count": 24,
   "metadata": {},
   "outputs": [
    {
     "name": "stdout",
     "output_type": "stream",
     "text": [
      "A média de confiança na detecção foi de:  0.9926\n",
      "Não foram detectados rostos em  537 imagens\n",
      "Houve problema na detecção em 0 imagens\n",
      "Foram detectados mais de um rosto em 82 imagens\n"
     ]
    }
   ],
   "source": [
    "print('A média de confiança na detecção foi de: ', round(calcula_media(df_black),4))\n",
    "print_nao_detectado(df_black)\n",
    "print_erro_modelo(df_black)\n",
    "print_mais_rostos(df_black)"
   ]
  },
  {
   "cell_type": "markdown",
   "metadata": {},
   "source": [
    "Combinando as colunas dos dataframes da etnia branca:"
   ]
  },
  {
   "cell_type": "code",
   "execution_count": 25,
   "metadata": {},
   "outputs": [],
   "source": [
    "col_completa_confidence_white = df_white['confidence'].combine_first(df_white_segundo_conjunto['confidence']) \\\n",
    "                                        .combine_first(df_white_terceiro_conjunto['confidence']) \\\n",
    "                                        .combine_first(df_white_quarto_conjunto['confidence']) \\\n",
    "                                        .combine_first(df_white_quinto_conjunto['confidence']) \\\n",
    "                                        .combine_first(df_white_sexto_conjunto['confidence']) \\\n",
    "                                        .combine_first(df_white_setimo_conjunto['confidence']) \\\n",
    "                                        .combine_first(df_white_oitavo_conjunto['confidence'])"
   ]
  },
  {
   "cell_type": "code",
   "execution_count": 26,
   "metadata": {},
   "outputs": [],
   "source": [
    "df_white['confidence']=col_completa_confidence_white"
   ]
  },
  {
   "cell_type": "code",
   "execution_count": null,
   "metadata": {},
   "outputs": [],
   "source": [
    "print('A média de confiança na detecção foi de: ', round(calcula_media(df_white),4))\n",
    "print_nao_detectado(df_white)\n",
    "print_erro_modelo(df_white)\n",
    "print_mais_rostos(df_white)"
   ]
  },
  {
   "cell_type": "markdown",
   "metadata": {},
   "source": [
    "Como é possível observar, apesar do conjunto de dados da etnia branca ser maior, a quantidade de erros na detecção de rostos foi maior para esta etnia."
   ]
  },
  {
   "cell_type": "markdown",
   "metadata": {},
   "source": [
    "### Avaliando os resultados do modelo MTCNN por gênero e raça"
   ]
  },
  {
   "cell_type": "code",
   "execution_count": 5,
   "metadata": {},
   "outputs": [],
   "source": [
    "list_dfs=[df_white, df_black, df_indian, df_latino_hispanic, df_middle_eastern, df_southeast_asian]\n"
   ]
  },
  {
   "cell_type": "markdown",
   "metadata": {},
   "source": [
    "Avaliando os erros por etnia agrupando por gênero"
   ]
  },
  {
   "cell_type": "code",
   "execution_count": 14,
   "metadata": {},
   "outputs": [
    {
     "name": "stdout",
     "output_type": "stream",
     "text": [
      "White\n",
      "Rostos femininos\n",
      "Não foram detectados rostos em  0 imagens\n",
      "Rostos masculinos\n",
      "Não foram detectados rostos em  0 imagens\n",
      "Black\n",
      "Rostos femininos\n",
      "Não foram detectados rostos em  0 imagens\n",
      "Rostos masculinos\n",
      "Não foram detectados rostos em  0 imagens\n",
      "Indian\n",
      "Rostos femininos\n",
      "Não foram detectados rostos em  8 imagens\n",
      "Rostos masculinos\n",
      "Não foram detectados rostos em  7 imagens\n",
      "Latino_Hispanic\n",
      "Rostos femininos\n",
      "Não foram detectados rostos em  4 imagens\n",
      "Rostos masculinos\n",
      "Não foram detectados rostos em  6 imagens\n",
      "Middle Eastern\n",
      "Rostos femininos\n",
      "Não foram detectados rostos em  5 imagens\n",
      "Rostos masculinos\n",
      "Não foram detectados rostos em  11 imagens\n",
      "Southeast Asian\n",
      "Rostos femininos\n",
      "Não foram detectados rostos em  35 imagens\n",
      "Rostos masculinos\n",
      "Não foram detectados rostos em  60 imagens\n"
     ]
    }
   ],
   "source": [
    "for df in list_dfs:\n",
    "    print(df['race'][0])\n",
    "    df_female=df[df['gender']=='Female']\n",
    "    df_male=df[df['gender']=='Male']\n",
    "    print(\"Rostos femininos\")\n",
    "    print_nao_detectado(df_female)\n",
    "    print(\"Rostos masculinos\")\n",
    "    print_nao_detectado(df_male)"
   ]
  },
  {
   "cell_type": "markdown",
   "metadata": {},
   "source": [
    "Avaliando os erros da raça branca por cada gênero"
   ]
  },
  {
   "cell_type": "code",
   "execution_count": 27,
   "metadata": {},
   "outputs": [
    {
     "name": "stdout",
     "output_type": "stream",
     "text": [
      "Female\n",
      "Não foram detectados rostos em  486 imagens\n",
      "Male\n",
      "Não foram detectados rostos em  606 imagens\n"
     ]
    }
   ],
   "source": [
    "print('Female')\n",
    "print_nao_detectado(df_white[df_white['gender']=='Female'])\n",
    "print('Male')\n",
    "print_nao_detectado(df_white[df_white['gender']=='Male'])"
   ]
  },
  {
   "cell_type": "markdown",
   "metadata": {},
   "source": [
    "Avaliando os erros da raça negra por cada gênero"
   ]
  },
  {
   "cell_type": "code",
   "execution_count": 28,
   "metadata": {},
   "outputs": [
    {
     "name": "stdout",
     "output_type": "stream",
     "text": [
      "Female\n",
      "Não foram detectados rostos em  236 imagens\n",
      "Male\n",
      "Não foram detectados rostos em  301 imagens\n"
     ]
    },
    {
     "name": "stderr",
     "output_type": "stream",
     "text": [
      "C:\\Users\\DELL\\AppData\\Local\\Temp\\ipykernel_19064\\3069438064.py:2: UserWarning: Boolean Series key will be reindexed to match DataFrame index.\n",
      "  print_nao_detectado(df_black[df_white['gender']=='Female'])\n",
      "C:\\Users\\DELL\\AppData\\Local\\Temp\\ipykernel_19064\\3069438064.py:4: UserWarning: Boolean Series key will be reindexed to match DataFrame index.\n",
      "  print_nao_detectado(df_black[df_white['gender']=='Male'])\n"
     ]
    }
   ],
   "source": [
    "print('Female')\n",
    "print_nao_detectado(df_black[df_white['gender']=='Female'])\n",
    "print('Male')\n",
    "print_nao_detectado(df_black[df_white['gender']=='Male'])"
   ]
  },
  {
   "cell_type": "markdown",
   "metadata": {},
   "source": [
    "### Avaliando a existência de viés no modelo"
   ]
  },
  {
   "cell_type": "markdown",
   "metadata": {},
   "source": [
    "Todas os diferentes dataframes foram unidos novamente em um só"
   ]
  },
  {
   "cell_type": "code",
   "execution_count": 6,
   "metadata": {},
   "outputs": [],
   "source": [
    "# Concatenate all DataFrames\n",
    "combined_df = pd.concat(list_dfs)\n",
    "\n",
    "# Sort the combined DataFrame by the index column\n",
    "df_mtcnn = combined_df.sort_values(by='Unnamed: 0')\n",
    "\n",
    "# Reset the index if you want a clean integer index\n",
    "df_mtcnn.reset_index(drop=True, inplace=True)"
   ]
  },
  {
   "cell_type": "markdown",
   "metadata": {},
   "source": [
    "Foram retirados os valores NaN do conjunto dos arquivos"
   ]
  },
  {
   "cell_type": "code",
   "execution_count": 7,
   "metadata": {},
   "outputs": [],
   "source": [
    "df_mtcnn = df_mtcnn[df_mtcnn['file'].notna()]"
   ]
  },
  {
   "cell_type": "markdown",
   "metadata": {},
   "source": [
    "Foram retirados onde não foi aplicado o modelo"
   ]
  },
  {
   "cell_type": "code",
   "execution_count": 8,
   "metadata": {},
   "outputs": [],
   "source": [
    "df_mtcnn = df_mtcnn[df_mtcnn['confidence'].notna()]"
   ]
  },
  {
   "cell_type": "markdown",
   "metadata": {},
   "source": [
    "Foi aplicado uma nova coluna em que o valor torna-se falso para as imagens em que não foi possível detectar o rosto"
   ]
  },
  {
   "cell_type": "code",
   "execution_count": 9,
   "metadata": {},
   "outputs": [],
   "source": [
    "df_mtcnn['face_detected'] = df_mtcnn['confidence'] != 'nenhum rosto detectado (=0)'"
   ]
  },
  {
   "cell_type": "markdown",
   "metadata": {},
   "source": [
    "O seguinte código calcula as métricas para avaliação de viés"
   ]
  },
  {
   "cell_type": "code",
   "execution_count": 14,
   "metadata": {},
   "outputs": [
    {
     "name": "stdout",
     "output_type": "stream",
     "text": [
      "\n",
      "Paridade Demográfica (Taxa de Seleção por Raça):\n",
      "race\n",
      "Black              1.000000\n",
      "Indian             0.946996\n",
      "Latino_Hispanic    0.970414\n",
      "Middle Eastern     0.919192\n",
      "Southeast Asian    0.952547\n",
      "White              1.000000\n",
      "Name: selection_rate, dtype: float64\n",
      "\n",
      "Igualdade de Oportunidade (Taxa de Verdadeiros Positivos por Raça):\n",
      "race\n",
      "Black              1.000000\n",
      "Indian             0.942446\n",
      "Latino_Hispanic    0.978261\n",
      "Middle Eastern     0.914062\n",
      "Southeast Asian    0.950820\n",
      "White              1.000000\n",
      "Name: true_positive_rate, dtype: float64\n",
      "\n",
      "Igualdade de Chance (Taxas de Verdadeiros Positivos e Falsos Positivos por Raça):\n",
      "race\n",
      "Black              0.0\n",
      "Indian             0.0\n",
      "Latino_Hispanic    0.0\n",
      "Middle Eastern     0.0\n",
      "Southeast Asian    0.0\n",
      "White              0.0\n",
      "Name: equalized_chance, dtype: float64\n",
      "Predictive Parity (Absolute Difference between True Positive Rate and False Positive Rate by Race):\n",
      "race\n",
      "Black              0.000000\n",
      "Indian             0.008943\n",
      "Latino_Hispanic    0.013261\n",
      "Middle Eastern     0.014509\n",
      "Southeast Asian    0.003584\n",
      "White              0.000000\n",
      "dtype: float64\n",
      "Equality of Treatment (Absolute Difference between False Positive Rate and False Negative Rate by Race):\n",
      "race\n",
      "Black              1.000000\n",
      "Indian             0.893835\n",
      "Latino_Hispanic    0.943261\n",
      "Middle Eastern     0.842634\n",
      "Southeast Asian    0.905224\n",
      "White              1.000000\n",
      "dtype: float64\n"
     ]
    }
   ],
   "source": [
    "from fairlearn.metrics import MetricFrame, true_positive_rate, true_negative_rate, false_positive_rate, false_negative_rate, selection_rate\n",
    "\n",
    "\n",
    "# Verificar se a coluna 'service_test' representa a verdade sobre a presença de um rosto\n",
    "df['face_present'] = df['service_test']  # Supondo que 'service_test' é True se um rosto está presente\n",
    "# Definir as colunas para avaliação\n",
    "y_true = df['face_present']\n",
    "y_pred = df['face_detected']\n",
    "sensitive_features = df[['race']]\n",
    "\n",
    "# Calcular métricas usando Fairlearn\n",
    "metrics = {\n",
    "    'true_positive_rate': true_positive_rate,\n",
    "    'false_positive_rate': false_positive_rate,\n",
    "    'true_negative_rate': true_negative_rate,\n",
    "    'false_negative_rate': false_negative_rate,\n",
    "    'selection_rate': selection_rate\n",
    "}\n",
    "\n",
    "metric_frame = MetricFrame(metrics=metrics, y_true=y_true, y_pred=y_pred, sensitive_features=sensitive_features)\n",
    "\n",
    "# Paridade Demográfica: selection_rate\n",
    "demographic_parity = metric_frame.by_group['selection_rate']\n",
    "print(\"\\nParidade Demográfica (Taxa de Seleção por Raça):\")\n",
    "print(demographic_parity)\n",
    "\n",
    "# Igualdade de Oportunidade: true_positive_rate\n",
    "equalized_opportunity = metric_frame.by_group['true_positive_rate']\n",
    "print(\"\\nIgualdade de Oportunidade (Taxa de Verdadeiros Positivos por Raça):\")\n",
    "print(equalized_opportunity)\n",
    "\n",
    "# Igualdade de Chance: true_positive_rate e false_positive_rate\n",
    "true_positive_rates = metric_frame.by_group['true_positive_rate']\n",
    "false_positive_rates = metric_frame.by_group['false_positive_rate']\n",
    "\n",
    "# Calculate the maximum and minimum difference for TPR and FPR by each sensitive group\n",
    "max_diff_tpr = true_positive_rates.groupby(level='race').transform(lambda x: x.max() - x.min())\n",
    "max_diff_fpr = false_positive_rates.groupby(level='race').transform(lambda x: x.max() - x.min())\n",
    "\n",
    "equalized_chance = pd.DataFrame({\n",
    "    'true_positive_rate': true_positive_rates,\n",
    "    'false_positive_rate': false_positive_rates,\n",
    "    'max_diff_tpr': max_diff_tpr,\n",
    "    'max_diff_fpr': max_diff_fpr\n",
    "})\n",
    "\n",
    "equalized_chance['equalized_chance'] = equalized_chance['max_diff_tpr'] + equalized_chance['max_diff_fpr']\n",
    "\n",
    "print(\"\\nIgualdade de Chance (Taxas de Verdadeiros Positivos e Falsos Positivos por Raça):\")\n",
    "print(equalized_chance['equalized_chance'])\n",
    "\n",
    "# Compare true positive rate and false positive rate for each group\n",
    "predictive_parity = (true_positive_rates - false_positive_rates).abs()\n",
    "\n",
    "print(\"Predictive Parity (Absolute Difference between True Positive Rate and False Positive Rate by Race):\")\n",
    "print(predictive_parity)\n",
    "\n",
    "# Compute false positive rate and false negative rate by group\n",
    "false_positive_rates = metric_frame.by_group['false_positive_rate']\n",
    "false_negative_rates = metric_frame.by_group['false_negative_rate']\n",
    "\n",
    "# Compare false positive rate and false negative rate for each group\n",
    "treatment_equality = (false_positive_rates - false_negative_rates).abs()\n",
    "\n",
    "print(\"Equality of Treatment (Absolute Difference between False Positive Rate and False Negative Rate by Race):\")\n",
    "print(treatment_equality)"
   ]
  },
  {
   "cell_type": "code",
   "execution_count": null,
   "metadata": {},
   "outputs": [],
   "source": []
  }
 ],
 "metadata": {
  "kernelspec": {
   "display_name": "Python 3",
   "language": "python",
   "name": "python3"
  },
  "language_info": {
   "codemirror_mode": {
    "name": "ipython",
    "version": 3
   },
   "file_extension": ".py",
   "mimetype": "text/x-python",
   "name": "python",
   "nbconvert_exporter": "python",
   "pygments_lexer": "ipython3",
   "version": "3.11.9"
  }
 },
 "nbformat": 4,
 "nbformat_minor": 2
}
