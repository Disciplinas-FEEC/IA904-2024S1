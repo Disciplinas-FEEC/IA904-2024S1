{
  "nbformat": 4,
  "nbformat_minor": 0,
  "metadata": {
    "colab": {
      "provenance": []
    },
    "kernelspec": {
      "name": "python3",
      "display_name": "Python 3"
    },
    "language_info": {
      "name": "python"
    }
  },
  "cells": [
    {
      "cell_type": "code",
      "execution_count": null,
      "metadata": {
        "colab": {
          "base_uri": "https://localhost:8080/"
        },
        "id": "blc59YDyn9cm",
        "outputId": "2125e131-3309-48f4-c64b-f1f119bc0aff"
      },
      "outputs": [
        {
          "output_type": "stream",
          "name": "stdout",
          "text": [
            "Mounted at /content/gdrive\n"
          ]
        }
      ],
      "source": [
        "from google.colab import drive\n",
        "#drive.mount('/content/gdrive')\n",
        "drive.mount(\"/content/gdrive\", force_remount=True)"
      ]
    },
    {
      "cell_type": "code",
      "source": [
        "ls gdrive/MyDrive/'Grupo IA904'/'Teste'/'Teste dia 0'/'Cópia de 0, 35, 260'/\n"
      ],
      "metadata": {
        "colab": {
          "base_uri": "https://localhost:8080/"
        },
        "id": "4Ry9-CDfxQcE",
        "outputId": "da8c8ed8-ec75-42ad-c8e4-7f003a9a351a"
      },
      "execution_count": null,
      "outputs": [
        {
          "output_type": "stream",
          "name": "stdout",
          "text": [
            "frame_0000.jpg  frame_0050.jpg  frame_0100.jpg   frame_v0002.jpg  frame_v0052.jpg  frame_v0102.jpg\n",
            "frame_0001.jpg  frame_0051.jpg  frame_0101.jpg   frame_v0003.jpg  frame_v0053.jpg  frame_v0103.jpg\n",
            "frame_0002.jpg  frame_0052.jpg  frame_0102.jpg   frame_v0004.jpg  frame_v0054.jpg  frame_v0104.jpg\n",
            "frame_0003.jpg  frame_0053.jpg  frame_0103.jpg   frame_v0005.jpg  frame_v0055.jpg  frame_v0105.jpg\n",
            "frame_0004.jpg  frame_0054.jpg  frame_0104.jpg   frame_v0006.jpg  frame_v0056.jpg  frame_v0106.jpg\n",
            "frame_0005.jpg  frame_0055.jpg  frame_0105.jpg   frame_v0007.jpg  frame_v0057.jpg  frame_v0107.jpg\n",
            "frame_0006.jpg  frame_0056.jpg  frame_0106.jpg   frame_v0008.jpg  frame_v0058.jpg  frame_v0108.jpg\n",
            "frame_0007.jpg  frame_0057.jpg  frame_0107.jpg   frame_v0009.jpg  frame_v0059.jpg  frame_v0109.jpg\n",
            "frame_0008.jpg  frame_0058.jpg  frame_0108.jpg   frame_v0010.jpg  frame_v0060.jpg  frame_v0110.jpg\n",
            "frame_0009.jpg  frame_0059.jpg  frame_0109.jpg   frame_v0011.jpg  frame_v0061.jpg  frame_v0111.jpg\n",
            "frame_0010.jpg  frame_0060.jpg  frame_0110.jpg   frame_v0012.jpg  frame_v0062.jpg  frame_v0112.jpg\n",
            "frame_0011.jpg  frame_0061.jpg  frame_0111.jpg   frame_v0013.jpg  frame_v0063.jpg  frame_v0113.jpg\n",
            "frame_0012.jpg  frame_0062.jpg  frame_0112.jpg   frame_v0014.jpg  frame_v0064.jpg  frame_v0114.jpg\n",
            "frame_0013.jpg  frame_0063.jpg  frame_0113.jpg   frame_v0015.jpg  frame_v0065.jpg  frame_v0115.jpg\n",
            "frame_0014.jpg  frame_0064.jpg  frame_0114.jpg   frame_v0016.jpg  frame_v0066.jpg  frame_v0116.jpg\n",
            "frame_0015.jpg  frame_0065.jpg  frame_0115.jpg   frame_v0017.jpg  frame_v0067.jpg  frame_v0117.jpg\n",
            "frame_0016.jpg  frame_0066.jpg  frame_0116.jpg   frame_v0018.jpg  frame_v0068.jpg  frame_v0118.jpg\n",
            "frame_0017.jpg  frame_0067.jpg  frame_0117.jpg   frame_v0019.jpg  frame_v0069.jpg  frame_v0119.jpg\n",
            "frame_0018.jpg  frame_0068.jpg  frame_0118.jpg   frame_v0020.jpg  frame_v0070.jpg  frame_v0120.jpg\n",
            "frame_0019.jpg  frame_0069.jpg  frame_0119.jpg   frame_v0021.jpg  frame_v0071.jpg  frame_v0121.jpg\n",
            "frame_0020.jpg  frame_0070.jpg  frame_0120.jpg   frame_v0022.jpg  frame_v0072.jpg  frame_v0122.jpg\n",
            "frame_0021.jpg  frame_0071.jpg  frame_0121.jpg   frame_v0023.jpg  frame_v0073.jpg  frame_v0123.jpg\n",
            "frame_0022.jpg  frame_0072.jpg  frame_0122.jpg   frame_v0024.jpg  frame_v0074.jpg  frame_v0124.jpg\n",
            "frame_0023.jpg  frame_0073.jpg  frame_0123.jpg   frame_v0025.jpg  frame_v0075.jpg  frame_v0125.jpg\n",
            "frame_0024.jpg  frame_0074.jpg  frame_0124.jpg   frame_v0026.jpg  frame_v0076.jpg  frame_v0126.jpg\n",
            "frame_0025.jpg  frame_0075.jpg  frame_0125.jpg   frame_v0027.jpg  frame_v0077.jpg  frame_v0127.jpg\n",
            "frame_0026.jpg  frame_0076.jpg  frame_0126.jpg   frame_v0028.jpg  frame_v0078.jpg  frame_v0128.jpg\n",
            "frame_0027.jpg  frame_0077.jpg  frame_0127.jpg   frame_v0029.jpg  frame_v0079.jpg  frame_v0129.jpg\n",
            "frame_0028.jpg  frame_0078.jpg  frame_0128.jpg   frame_v0030.jpg  frame_v0080.jpg  frame_v0130.jpg\n",
            "frame_0029.jpg  frame_0079.jpg  frame_0129.jpg   frame_v0031.jpg  frame_v0081.jpg  frame_v0131.jpg\n",
            "frame_0030.jpg  frame_0080.jpg  frame_0130.jpg   frame_v0032.jpg  frame_v0082.jpg  frame_v0132.jpg\n",
            "frame_0031.jpg  frame_0081.jpg  frame_0131.jpg   frame_v0033.jpg  frame_v0083.jpg  frame_v0133.jpg\n",
            "frame_0032.jpg  frame_0082.jpg  frame_0132.jpg   frame_v0034.jpg  frame_v0084.jpg  frame_v0134.jpg\n",
            "frame_0033.jpg  frame_0083.jpg  frame_0133.jpg   frame_v0035.jpg  frame_v0085.jpg  frame_v0135.jpg\n",
            "frame_0034.jpg  frame_0084.jpg  frame_0134.jpg   frame_v0036.jpg  frame_v0086.jpg  frame_v0136.jpg\n",
            "frame_0035.jpg  frame_0085.jpg  frame_0135.jpg   frame_v0037.jpg  frame_v0087.jpg  frame_v0137.jpg\n",
            "frame_0036.jpg  frame_0086.jpg  frame_0136.jpg   frame_v0038.jpg  frame_v0088.jpg  frame_v0138.jpg\n",
            "frame_0037.jpg  frame_0087.jpg  frame_0137.jpg   frame_v0039.jpg  frame_v0089.jpg  frame_v0139.jpg\n",
            "frame_0038.jpg  frame_0088.jpg  frame_0138.jpg   frame_v0040.jpg  frame_v0090.jpg  frame_v0140.jpg\n",
            "frame_0039.jpg  frame_0089.jpg  frame_0139.jpg   frame_v0041.jpg  frame_v0091.jpg  frame_v0141.jpg\n",
            "frame_0040.jpg  frame_0090.jpg  frame_0140.jpg   frame_v0042.jpg  frame_v0092.jpg  frame_v0142.jpg\n",
            "frame_0041.jpg  frame_0091.jpg  frame_0141.jpg   frame_v0043.jpg  frame_v0093.jpg  frame_v0143.jpg\n",
            "frame_0042.jpg  frame_0092.jpg  frame_0142.jpg   frame_v0044.jpg  frame_v0094.jpg  frame_v0144.jpg\n",
            "frame_0043.jpg  frame_0093.jpg  frame_0143.jpg   frame_v0045.jpg  frame_v0095.jpg  frame_v0145.jpg\n",
            "frame_0044.jpg  frame_0094.jpg  frame_0144.jpg   frame_v0046.jpg  frame_v0096.jpg  frame_v0146.jpg\n",
            "frame_0045.jpg  frame_0095.jpg  frame_0145.jpg   frame_v0047.jpg  frame_v0097.jpg  frame_v0147.jpg\n",
            "frame_0046.jpg  frame_0096.jpg  frame_0146.jpg   frame_v0048.jpg  frame_v0098.jpg  frame_v0148.jpg\n",
            "frame_0047.jpg  frame_0097.jpg  frame_0147.jpg   frame_v0049.jpg  frame_v0099.jpg\n",
            "frame_0048.jpg  frame_0098.jpg  frame_v0000.jpg  frame_v0050.jpg  frame_v0100.jpg\n",
            "frame_0049.jpg  frame_0099.jpg  frame_v0001.jpg  frame_v0051.jpg  frame_v0101.jpg\n"
          ]
        }
      ]
    },
    {
      "cell_type": "code",
      "source": [
        "import cv2\n",
        "import os\n",
        "import re\n",
        "\n",
        "def extract_frames(video_path, output_folder):\n",
        "    # Verifica se a pasta de saída existe, se não, cria ela\n",
        "    if not os.path.exists(output_folder):\n",
        "        os.makedirs(output_folder)\n",
        "\n",
        "    # Captura o vídeo\n",
        "    cap = cv2.VideoCapture(video_path)\n",
        "\n",
        "    # Verifica se o vídeo foi carregado com sucesso\n",
        "    if not cap.isOpened():\n",
        "        print(f\"Erro ao abrir o vídeo: {video_path}\")\n",
        "        return\n",
        "\n",
        "    frame_count = 0\n",
        "    video_name = os.path.basename(video_path).split('.')[0]\n",
        "    video_folder = os.path.join(output_folder, video_name)\n",
        "\n",
        "    if not os.path.exists(video_folder):\n",
        "        os.makedirs(video_folder)\n",
        "\n",
        "    while True:\n",
        "        ret, frame = cap.read()\n",
        "        if not ret:\n",
        "            break\n",
        "\n",
        "        # Salva cada frame na pasta de saída\n",
        "        frame_filename = os.path.join(video_folder, f\"frame_v{frame_count:04d}.jpg\")\n",
        "        cv2.imwrite(frame_filename, frame)\n",
        "        frame_count += 1\n",
        "\n",
        "    # Libera o vídeo\n",
        "    cap.release()\n",
        "    print(f\"Extração completa para {video_name}! {frame_count} frames foram salvos em {video_folder}\")\n"
      ],
      "metadata": {
        "id": "coMFDHkvpQUl"
      },
      "execution_count": null,
      "outputs": []
    },
    {
      "cell_type": "code",
      "source": [
        "entrada = '/content/gdrive/MyDrive/Grupo IA904/Teste/Vermelho/'\n",
        "saida = '/content/gdrive/MyDrive/Grupo IA904/Teste/Teste dia 11/' #alterar a pasta\n",
        "\n",
        "all_files = os.listdir(entrada)\n",
        "pattern = re.compile(r'^.*2, 35.*\\.mp4$') #alterar o nome do arquivo\n",
        "video_files = [f for f in all_files if pattern.match(f)]\n",
        "for video_file in video_files:\n",
        "  video_path = os.path.join(entrada, video_file)\n",
        "  extract_frames(video_path, saida)"
      ],
      "metadata": {
        "colab": {
          "base_uri": "https://localhost:8080/"
        },
        "id": "z8ncBR8Crxcs",
        "outputId": "fe9972db-ea10-4660-dd30-d1f6209bc19f"
      },
      "execution_count": null,
      "outputs": [
        {
          "output_type": "stream",
          "name": "stdout",
          "text": [
            "Extração completa para Cópia de 2, 35, 270! 153 frames foram salvos em /content/gdrive/MyDrive/Grupo IA904/Teste/Teste dia 11/Cópia de 2, 35, 270\n",
            "Extração completa para Cópia de 2, 35, 290! 147 frames foram salvos em /content/gdrive/MyDrive/Grupo IA904/Teste/Teste dia 11/Cópia de 2, 35, 290\n",
            "Extração completa para Cópia de 2, 35, 280! 154 frames foram salvos em /content/gdrive/MyDrive/Grupo IA904/Teste/Teste dia 11/Cópia de 2, 35, 280\n",
            "Extração completa para Cópia de 2, 35, 260! 151 frames foram salvos em /content/gdrive/MyDrive/Grupo IA904/Teste/Teste dia 11/Cópia de 2, 35, 260\n",
            "Extração completa para Cópia de 2, 35, 240! 151 frames foram salvos em /content/gdrive/MyDrive/Grupo IA904/Teste/Teste dia 11/Cópia de 2, 35, 240\n",
            "Extração completa para Cópia de 2, 35, 250! 147 frames foram salvos em /content/gdrive/MyDrive/Grupo IA904/Teste/Teste dia 11/Cópia de 2, 35, 250\n",
            "Extração completa para Cópia de 2, 35, 230! 149 frames foram salvos em /content/gdrive/MyDrive/Grupo IA904/Teste/Teste dia 11/Cópia de 2, 35, 230\n",
            "Extração completa para Cópia de 2, 35, 300! 150 frames foram salvos em /content/gdrive/MyDrive/Grupo IA904/Teste/Teste dia 11/Cópia de 2, 35, 300\n",
            "Extração completa para Cópia de 2, 35, 310! 151 frames foram salvos em /content/gdrive/MyDrive/Grupo IA904/Teste/Teste dia 11/Cópia de 2, 35, 310\n",
            "Extração completa para Cópia de 2, 35, 320! 147 frames foram salvos em /content/gdrive/MyDrive/Grupo IA904/Teste/Teste dia 11/Cópia de 2, 35, 320\n",
            "Extração completa para Cópia de 2, 35, 330! 151 frames foram salvos em /content/gdrive/MyDrive/Grupo IA904/Teste/Teste dia 11/Cópia de 2, 35, 330\n",
            "Extração completa para Cópia de 2, 35, 340! 143 frames foram salvos em /content/gdrive/MyDrive/Grupo IA904/Teste/Teste dia 11/Cópia de 2, 35, 340\n",
            "Extração completa para Cópia de 2, 35, 350! 148 frames foram salvos em /content/gdrive/MyDrive/Grupo IA904/Teste/Teste dia 11/Cópia de 2, 35, 350\n"
          ]
        }
      ]
    }
  ]
}