{
  "nbformat": 4,
  "nbformat_minor": 0,
  "metadata": {
    "colab": {
      "provenance": []
    },
    "kernelspec": {
      "name": "python3",
      "display_name": "Python 3"
    },
    "language_info": {
      "name": "python"
    }
  },
  "cells": [
    {
      "cell_type": "code",
      "execution_count": null,
      "metadata": {
        "colab": {
          "base_uri": "https://localhost:8080/"
        },
        "id": "aS4Vi9Qcp3K9",
        "outputId": "48eb4741-ea7a-431c-e230-de28341e1f6f"
      },
      "outputs": [
        {
          "output_type": "stream",
          "name": "stdout",
          "text": [
            "Mounted at /content/gdrive\n"
          ]
        }
      ],
      "source": [
        "from google.colab import drive\n",
        "#drive.mount('/content/gdrive')\n",
        "drive.mount(\"/content/gdrive\", force_remount=True)"
      ]
    },
    {
      "cell_type": "code",
      "source": [
        "ls gdrive/MyDrive/'Grupo IA904'/'Dia 7'/"
      ],
      "metadata": {
        "colab": {
          "base_uri": "https://localhost:8080/"
        },
        "id": "U2PDY5fOrRft",
        "outputId": "64cb68b3-9b69-4813-bc90-ab8933b93bb0"
      },
      "execution_count": null,
      "outputs": [
        {
          "output_type": "stream",
          "name": "stdout",
          "text": [
            "\u001b[0m\u001b[01;34m'dia 7, tomate 1, 1'\u001b[0m/  \u001b[01;34m'dia 7, tomate 2, 1'\u001b[0m/  \u001b[01;34m'dia 7, tomate 3, 1'\u001b[0m/\n",
            "\u001b[01;34m'dia 7, tomate 1, 2'\u001b[0m/  \u001b[01;34m'dia 7, tomate 2, 2'\u001b[0m/  \u001b[01;34m'dia 7, tomate 3, 2'\u001b[0m/\n",
            "\u001b[01;34m'dia 7, tomate 1, 3'\u001b[0m/  \u001b[01;34m'dia 7, tomate 2, 3'\u001b[0m/  \u001b[01;34m'dia 7, tomate 3, 3'\u001b[0m/\n"
          ]
        }
      ]
    },
    {
      "cell_type": "code",
      "source": [
        "import os\n",
        "\n",
        "# Defina o caminho para a pasta principal\n",
        "path = '/content/gdrive/MyDrive/Grupo IA904/Dia 7/'\n",
        "\n",
        "# Função para contar o número de imagens em um diretório\n",
        "def contar_imagens(directory):\n",
        "    total_imagens = 0\n",
        "    for item in os.listdir(directory):\n",
        "        item_path = os.path.join(directory, item)\n",
        "        if os.path.isdir(item_path):\n",
        "            total_imagens += contar_imagens(item_path)\n",
        "        elif item.endswith(('.jpg', '.jpeg', '.png', '.gif')):\n",
        "            total_imagens += 1\n",
        "    return total_imagens\n",
        "\n",
        "# Função para listar todas as pastas e contar as imagens em cada uma\n",
        "def contar_imagens_em_pastas(root_path):\n",
        "    total_imagens_total = 0\n",
        "    for root, dirs, files in os.walk(root_path):\n",
        "        for dir_name in dirs:\n",
        "            dir_path = os.path.join(root, dir_name)\n",
        "            num_imagens = contar_imagens(dir_path)\n",
        "            total_imagens_total += num_imagens\n",
        "            print(f'A pasta {dir_path} contém {num_imagens} imagens.')\n",
        "    return total_imagens_total\n",
        "\n",
        "# Chamar a função para contar imagens em cada pasta e obter a soma total\n",
        "soma_total = contar_imagens_em_pastas(path)\n",
        "\n",
        "# Imprimir a soma total de imagens\n",
        "print(f'A soma total de imagens em todas as pastas é: {soma_total}')\n"
      ],
      "metadata": {
        "colab": {
          "base_uri": "https://localhost:8080/"
        },
        "id": "ysRJCpKYrq5p",
        "outputId": "0c67201b-76f7-46ce-c6ba-c6809585b5e2"
      },
      "execution_count": null,
      "outputs": [
        {
          "output_type": "stream",
          "name": "stdout",
          "text": [
            "A pasta /content/gdrive/MyDrive/Grupo IA904/Dia 7/dia 7, tomate 1, 1 contém 579 imagens.\n",
            "A pasta /content/gdrive/MyDrive/Grupo IA904/Dia 7/dia 7, tomate 2, 3 contém 582 imagens.\n",
            "A pasta /content/gdrive/MyDrive/Grupo IA904/Dia 7/dia 7, tomate 2, 2 contém 595 imagens.\n",
            "A pasta /content/gdrive/MyDrive/Grupo IA904/Dia 7/dia 7, tomate 2, 1 contém 585 imagens.\n",
            "A pasta /content/gdrive/MyDrive/Grupo IA904/Dia 7/dia 7, tomate 1, 3 contém 583 imagens.\n",
            "A pasta /content/gdrive/MyDrive/Grupo IA904/Dia 7/dia 7, tomate 1, 2 contém 569 imagens.\n",
            "A pasta /content/gdrive/MyDrive/Grupo IA904/Dia 7/dia 7, tomate 3, 3 contém 589 imagens.\n",
            "A pasta /content/gdrive/MyDrive/Grupo IA904/Dia 7/dia 7, tomate 3, 2 contém 583 imagens.\n",
            "A pasta /content/gdrive/MyDrive/Grupo IA904/Dia 7/dia 7, tomate 3, 1 contém 590 imagens.\n",
            "A soma total de imagens em todas as pastas é: 5255\n"
          ]
        }
      ]
    }
  ]
}