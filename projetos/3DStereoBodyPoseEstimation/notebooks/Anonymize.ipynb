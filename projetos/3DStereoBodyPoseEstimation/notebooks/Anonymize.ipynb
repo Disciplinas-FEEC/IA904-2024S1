{
 "cells": [
  {
   "cell_type": "code",
   "execution_count": 42,
   "metadata": {},
   "outputs": [],
   "source": [
    "from cvzone.FaceDetectionModule import FaceDetector\n",
    "import pandas as pd\n",
    "import glob\n",
    "import cv2\n",
    "import os"
   ]
  },
  {
   "cell_type": "code",
   "execution_count": 36,
   "metadata": {},
   "outputs": [],
   "source": [
    "detector = FaceDetector(minDetectionCon=0.5)\n",
    "\n",
    "def anonymize(img, debug=False):\n",
    "    result,bboxes = detector.findFaces(img, draw=debug)\n",
    "    if bboxes:\n",
    "        for bbox in bboxes:\n",
    "            x,y,w,h = [max(value, 0) for value in bbox['bbox']]\n",
    "            rec = result[y:y+h,x:x+w]\n",
    "            result[y:y+h,x:x+w] = cv2.blur(rec,(30,30))\n",
    "    return result"
   ]
  },
  {
   "cell_type": "markdown",
   "metadata": {},
   "source": [
    "# Process Dataset"
   ]
  },
  {
   "cell_type": "code",
   "execution_count": 40,
   "metadata": {},
   "outputs": [],
   "source": [
    "input_path = os.path.join(os.path.dirname(os.getcwd()), 'data', 'raw', 'OAK-D Real Pose Dataset')\n",
    "processed_path = os.path.join(os.path.dirname(os.getcwd()), 'data', 'processed', 'OAK-D Real Pose Dataset')"
   ]
  },
  {
   "cell_type": "code",
   "execution_count": 51,
   "metadata": {},
   "outputs": [],
   "source": [
    "for sequence in os.listdir(input_path):\n",
    "    processed_sequence_path = os.path.join(processed_path, sequence)\n",
    "    os.makedirs(processed_sequence_path, exist_ok=True)\n",
    "    \n",
    "    for img_path in glob.glob(os.path.join(input_path, sequence, '*.png')):\n",
    "        img = cv2.imread(img_path)\n",
    "        anonymized_img = anonymize(img)\n",
    "        anonymized_img_path = os.path.join(processed_sequence_path, os.path.basename(img_path))\n",
    "        cv2.imwrite(anonymized_img_path, anonymized_img)"
   ]
  },
  {
   "cell_type": "markdown",
   "metadata": {},
   "source": [
    "# Test using webcam"
   ]
  },
  {
   "cell_type": "code",
   "execution_count": 39,
   "metadata": {},
   "outputs": [],
   "source": [
    "cap = cv2.VideoCapture(0)\n",
    "\n",
    "while True:\n",
    "    _,img = cap.read()\n",
    "    cv2.imshow('IMG', anonymize(img, True))\n",
    "    \n",
    "    if cv2.waitKey(1) & 0xFF==ord('q'):\n",
    "        cap.release()\n",
    "        break\n",
    "\n",
    "cv2.destroyAllWindows()"
   ]
  }
 ],
 "metadata": {
  "kernelspec": {
   "display_name": "Python 3 (ipykernel)",
   "language": "python",
   "name": "python3"
  },
  "language_info": {
   "codemirror_mode": {
    "name": "ipython",
    "version": 3
   },
   "file_extension": ".py",
   "mimetype": "text/x-python",
   "name": "python",
   "nbconvert_exporter": "python",
   "pygments_lexer": "ipython3",
   "version": "3.11.9"
  }
 },
 "nbformat": 4,
 "nbformat_minor": 4
}
