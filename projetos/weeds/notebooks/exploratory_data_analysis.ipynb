{
  "nbformat": 4,
  "nbformat_minor": 0,
  "metadata": {
    "colab": {
      "provenance": []
    },
    "kernelspec": {
      "name": "python3",
      "display_name": "Python 3"
    },
    "language_info": {
      "name": "python"
    }
  },
  "cells": [
    {
      "cell_type": "code",
      "source": [
        "from google.colab import drive\n",
        "drive.mount('/content/gdrive')\n",
        "path = f\"gdrive/MyDrive/Mestrado/IA904/Weeds/\""
      ],
      "metadata": {
        "colab": {
          "base_uri": "https://localhost:8080/"
        },
        "id": "4yK9zk78i73-",
        "outputId": "a50fa3f0-fb4a-4548-9dc9-2be46361685f"
      },
      "execution_count": 9,
      "outputs": [
        {
          "output_type": "stream",
          "name": "stdout",
          "text": [
            "Mounted at /content/gdrive\n"
          ]
        }
      ]
    },
    {
      "cell_type": "code",
      "source": [
        "import os\n",
        "import glob"
      ],
      "metadata": {
        "id": "FrtaHCyijjn8"
      },
      "execution_count": 11,
      "outputs": []
    },
    {
      "cell_type": "code",
      "source": [
        "subfolders = [f.path for f in os.scandir(path) if f.is_dir()]\n",
        "\n",
        "def count_files_in_folder(folder_path):\n",
        "    return len([f for f in os.listdir(folder_path) if os.path.isfile(os.path.join(folder_path, f))])\n",
        "\n",
        "for subfolder in subfolders:\n",
        "    sub_subfolders = [f.path for f in os.scandir(subfolder) if f.is_dir()]\n",
        "    subfolder_name = os.path.basename(subfolder)\n",
        "    print(f\"\\n{subfolder_name}\")\n",
        "    for sub_subfolder in sub_subfolders:\n",
        "        sub_subfolder_name = os.path.basename(sub_subfolder)\n",
        "        file_count = count_files_in_folder(sub_subfolder)\n",
        "        print(f\"  {sub_subfolder_name}: {file_count} files\")"
      ],
      "metadata": {
        "colab": {
          "base_uri": "https://localhost:8080/"
        },
        "id": "A2GvzXgzjbyW",
        "outputId": "3c2b9624-f5d9-4da9-f4c2-78bf6072d576"
      },
      "execution_count": 20,
      "outputs": [
        {
          "output_type": "stream",
          "name": "stdout",
          "text": [
            "\n",
            "test\n",
            "  images: 180 files\n",
            "  labels: 180 files\n",
            "\n",
            "train\n",
            "  images: 3664 files\n",
            "  labels: 3664 files\n",
            "\n",
            "valid\n",
            "  labels: 359 files\n",
            "  images: 359 files\n"
          ]
        }
      ]
    }
  ]
}